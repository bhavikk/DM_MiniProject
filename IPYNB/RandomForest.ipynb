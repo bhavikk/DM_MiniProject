{
 "cells": [
  {
   "cell_type": "code",
   "execution_count": null,
   "metadata": {},
   "outputs": [],
   "source": [
    "import matplotlib\n",
    "import pandas as pd\n",
    "import sys\n",
    "import numpy as np\n",
    "import pickle\n",
    "from sklearn.ensemble import RandomForestClassifier\n",
    "from sklearn.cross_validation import train_test_split\n",
    "from sklearn.feature_extraction.text import CountVectorizer"
   ]
  },
  {
   "cell_type": "code",
   "execution_count": null,
   "metadata": {},
   "outputs": [],
   "source": [
    "newsdata=pd.read_csv('./uci-news-url.csv')\n",
    "X = newsdata['TITLE']\n",
    "vectorizer=CountVectorizer()\n",
    "\n",
    "c=vectorizer.fit_transform(X.astype('U'))\n",
    "# print(c)\n",
    "y = newsdata['CATEGORY'];\n",
    "rf=RandomForestClassifier(n_estimators=50,criterion='entropy')\n",
    "rf.fit(c,y)\n",
    "pickle.dump(rf,open(\"randomforest.pickle\",\"wb\"))"
   ]
  },
  {
   "cell_type": "code",
   "execution_count": null,
   "metadata": {},
   "outputs": [],
   "source": [
    "example = ['html-node-applications-mircosoft']\n",
    "example_count = vectorizer.transform(example)\n",
    "pred = rf.predict(example_count)\n",
    "print(pred)"
   ]
  },
  {
   "cell_type": "code",
   "execution_count": null,
   "metadata": {},
   "outputs": [],
   "source": [
    "urldata=pd.read_excel('./write2cell.xlsx')\n",
    "X=urldata['url']\n",
    "print(X.describe())\n",
    "X=X[:20]\n",
    "print(X.describe())\n",
    "example_count = vectorizer.transform(X)\n",
    "\n",
    "pred = rf.predict(example_count)\n",
    "# pro=classifier.predict_proba(example_count)\n",
    "\n",
    "output=pd.DataFrame({\"url\":X,\"category\":pred})\n",
    "output"
   ]
  },
  {
   "cell_type": "code",
   "execution_count": null,
   "metadata": {},
   "outputs": [],
   "source": []
  }
 ],
 "metadata": {
  "kernelspec": {
   "display_name": "Python 3",
   "language": "python",
   "name": "python3"
  },
  "language_info": {
   "codemirror_mode": {
    "name": "ipython",
    "version": 3
   },
   "file_extension": ".py",
   "mimetype": "text/x-python",
   "name": "python",
   "nbconvert_exporter": "python",
   "pygments_lexer": "ipython3",
   "version": "3.5.2"
  }
 },
 "nbformat": 4,
 "nbformat_minor": 2
}
