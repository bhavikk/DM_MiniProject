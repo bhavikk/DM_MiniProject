{
 "cells": [
  {
   "cell_type": "code",
   "execution_count": null,
   "metadata": {},
   "outputs": [],
   "source": [
    "import matplotlib\n",
    "import pandas as pd\n",
    "import sys\n",
    "import numpy as np\n",
    "import pickle\n",
    "from sklearn.naive_bayes import MultinomialNB\n",
    "from sklearn.cross_validation import train_test_split\n",
    "from sklearn.feature_extraction.text import CountVectorizer\n",
    "newsdata=pd.read_csv('./uci-news-url.csv', engine='python',encoding = \"ISO-8859-1\")\n",
    "X = newsdata['TITLE']\n",
    "vectorizer=CountVectorizer()\n",
    "c=vectorizer.fit_transform(X.astype('U'))\n",
    "\n",
    "y = newsdata['CATEGORY'];\n",
    "#classifier = MultinomialNB()\n",
    "neigh = KNeighborsClassifier(n_neighbors = 5, weights='uniform', algorithm='auto')\n",
    "#X_train,y_train,X_test,y_test=train_test_split(c,y,test_size=0.2)\n",
    "neigh.fit(c,y)\n"
   ]
  }
 ],
 "metadata": {
  "kernelspec": {
   "display_name": "Python 3",
   "language": "python",
   "name": "python3"
  },
  "language_info": {
   "codemirror_mode": {
    "name": "ipython",
    "version": 3
   },
   "file_extension": ".py",
   "mimetype": "text/x-python",
   "name": "python",
   "nbconvert_exporter": "python",
   "pygments_lexer": "ipython3",
   "version": "3.5.2"
  }
 },
 "nbformat": 4,
 "nbformat_minor": 2
}
